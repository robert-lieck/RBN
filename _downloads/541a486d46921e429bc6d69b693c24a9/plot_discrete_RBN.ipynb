{
  "cells": [
    {
      "cell_type": "markdown",
      "metadata": {},
      "source": [
        "\n# Discrete RBN\n\nThis examples goes through all the steps involved in defining a discrete RBN for sequential data.\n\nDiscrete RBNs are equivalent to PCFGs and, compared to continuous RBNs, easier to inspect and instructive as a first\nstep before moving towards continuous variables.\n\n<div class=\"alert alert-info\"><h4>Note</h4><p>If you are only interested in defining and using a PCFG, see :doc:`/auto_examples/plot_PCFG` for a more\n    realistic example using the :class:`~rbnet.pcfg.AbstractedPCFG` class.</p></div>\n"
      ]
    },
    {
      "cell_type": "markdown",
      "metadata": {},
      "source": [
        "## Abstract PCFG\nWe start with the simplest non-trivial example of an RBN with a single,\ndiscrete, binary non-terminal variable. This example could equivalently be written as a PCFG with two\nnon-terminal symbols $\\{0, 1\\}$, two terminal symbols $\\{\\bar{0}, \\bar{1}\\}$, and four rules\n\n\\begin{align}0 & \\longrightarrow 1 0 \\\\\n    1 & \\longrightarrow 0 1 \\\\\n    0 & \\longrightarrow \\bar{0} \\\\\n    1 & \\longrightarrow \\bar{1}~.\\end{align}\n\nThese rules correspond to the non-zero entries in the transition matrices below (two non-terminal and two terminal\nrules). This is an example where the entire PCFG is `abstracted` into a single RBN variable. The\n:class:`~rbnet.pcfg.AbstractedPCFG` class provides a convenient interface for defining this type of RBN,\nbut we will here build one from scratch for demonstration purposes. The second example below shows an alternative\nway (`expansion`) of using a PCFG to define an RBN.\n\nWe start by importing some classes for discrete RBNs from the ``pcfg`` submodule.\n\n"
      ]
    },
    {
      "cell_type": "code",
      "execution_count": null,
      "metadata": {
        "collapsed": false
      },
      "outputs": [],
      "source": [
        "from rbnet.pcfg import DiscreteNonTermVar, DiscretePrior, DiscreteBinaryNonTerminalTransition, DiscreteTerminalTransition, StaticCell\nfrom rbnet.base import SequentialRBN\nimport numpy as np"
      ]
    },
    {
      "cell_type": "markdown",
      "metadata": {},
      "source": [
        "### Defining Variables and Transitions\nWe first define a discrete binary non-terminal variable (:class:`~rbnet.pcfg.DiscreteNonTermVar`) and a corresponding\n:class:`~rbnet.pcfg.DiscretePrior` that always generates this one variable with a uniform distribution over its value\n\n"
      ]
    },
    {
      "cell_type": "code",
      "execution_count": null,
      "metadata": {
        "collapsed": false
      },
      "outputs": [],
      "source": [
        "non_term_var = DiscreteNonTermVar(cardinality=2)\nprior = DiscretePrior(struc_weights=[1.], prior_weights=[[0.5, 0.5]])"
      ]
    },
    {
      "cell_type": "markdown",
      "metadata": {},
      "source": [
        "For the transitions, we use a :class:`~rbnet.pcfg.DiscreteBinaryNonTerminalTransition` ``p(a, b | c)`` were the\nleft child ``a`` is always the opposite of the parent ``c`` while the right child ``b`` is always the same; and a\n:class:`~rbnet.pcfg.DiscreteTerminalTransition` that produces a binary observation without changing value\n\n"
      ]
    },
    {
      "cell_type": "code",
      "execution_count": null,
      "metadata": {
        "collapsed": false
      },
      "outputs": [],
      "source": [
        "weights = np.zeros((2, 2, 2))  # p(a, b | c)\nweights[1, 0, 0] = 1  # p(a=1, b=0 | c=0) = 1\nweights[0, 1, 1] = 1  # p(a=0, b=1 | c=1) = 1\nnon_term_transition = DiscreteBinaryNonTerminalTransition(weights=weights)\n\nweights = np.zeros((2, 2))  # p(a | b)\nweights[0, 0] = 1  # p(a=0 | b=0) = 1\nweights[1, 1] = 1  # p(a=1 | b=1) = 1\nterm_transition = DiscreteTerminalTransition(weights=weights)"
      ]
    },
    {
      "cell_type": "markdown",
      "metadata": {},
      "source": [
        "### Defining the Cell and RBN\nWe can now create a :class:`~rbnet.pcfg.StaticCell` for the non-terminal variable, which chooses the terminal\ntransition 50% of the time, and define our :class:`~rbnet.base.SequentialRBN`\n\n"
      ]
    },
    {
      "cell_type": "code",
      "execution_count": null,
      "metadata": {
        "collapsed": false
      },
      "outputs": [],
      "source": [
        "cell = StaticCell(variable=non_term_var,\n                  weights=[0.5, 0.5],\n                  transitions=[non_term_transition, term_transition])\nrbn = SequentialRBN(cells=[cell], prior=prior)"
      ]
    },
    {
      "cell_type": "markdown",
      "metadata": {},
      "source": [
        "### Parsing Sequences\nIt is impossible to generate sequences with all zeros or all ones, because children never have the same value and the\nterminal transition does not change the value. Thus, the marginal likelihood for these sequences, returned by the\n:meth:`~rbnet.base.RBN.inside` method, is always zero\n\n"
      ]
    },
    {
      "cell_type": "code",
      "execution_count": null,
      "metadata": {
        "collapsed": false
      },
      "outputs": [],
      "source": [
        "print(rbn.inside(sequence=[[0], [0], [0], [0]]))\nprint(rbn.inside(sequence=[[1], [1], [1], [1]]))"
      ]
    },
    {
      "cell_type": "markdown",
      "metadata": {},
      "source": [
        "For other sequences, we see that the marginal likelihood is non-zero, and we can also inspect the parse chart, which\ncontains the inside probabilities for the values of the non-terminal variable\n\n"
      ]
    },
    {
      "cell_type": "code",
      "execution_count": null,
      "metadata": {
        "collapsed": false
      },
      "outputs": [],
      "source": [
        "print(rbn.inside(sequence=[[0], [0], [0], [1]]))\nprint(rbn.inside_chart[0].pretty())"
      ]
    },
    {
      "cell_type": "markdown",
      "metadata": {},
      "source": [
        "Note how\n\n - values at the bottom are ``0.5`` because the probability of terminating is ``0.5`` and the transition is\n   deterministic otherwise.\n - with each level, the values decrease by a factor of ``1/4``, where a factor of ``0.5`` comes from the probability\n   of (not) terminating and another factor of ``0.5`` comes from the inside probability of the left child.\n - the marginal likelihood is ``1/2`` of the top-level inside probability, because the prior is uniform over values.\n\n"
      ]
    },
    {
      "cell_type": "markdown",
      "metadata": {},
      "source": [
        "### Using the :class:`~rbnet.pcfg.AbstractedPCFG` Class\nAn equivalent RBN can be defined using the :class:`~rbnet.pcfg.AbstractedPCFG` class (see\n:doc:`/auto_examples/plot_PCFG` for a more realistic example). Note that the prior transition of an RBN provides\nslightly more freedom than a PCFG, because it defines a distribution over the first symbol, whereas a PCFG always\nstarts with the start symbol. Therefore, we need combine the prior and the first non-terminal transition into the\ndefinition for the start symbol (essentially marginalising out the first symbol generated by the prior in the RBN).\nInternally, the :class:`~rbnet.pcfg.AbstractedPCFG` class defines a deterministic prior that generates the start\nsymbol. We get identical inside probabilities to the RBN case above (the first value corresponding to the start\nsymbol), but the marginal likelihood is a factor of 2 larger because of the deterministic prior.\n\n"
      ]
    },
    {
      "cell_type": "code",
      "execution_count": null,
      "metadata": {
        "collapsed": false
      },
      "outputs": [],
      "source": [
        "from rbnet.pcfg import AbstractedPCFG\n\npcfg = AbstractedPCFG(non_terminals=\"SAB\", terminals=\"ab\", start=\"S\", rules=[\n    (\"S --> A B\", 1), (\"S --> B A\", 1),  # prior + first transition\n    (\"A --> B A\", 1), (\"B --> A B\", 1),  # non-terminal transitions\n    (\"A --> a\", 1), (\"B --> b\", 1)       # terminal transition\n])\n\n\nprint(pcfg.inside(sequence=\"aaaa\"))\nprint(pcfg.inside(sequence=\"bbbb\"))\nprint(pcfg.inside(sequence=\"aaab\"))\nprint(pcfg.inside_chart[0].pretty())"
      ]
    },
    {
      "cell_type": "markdown",
      "metadata": {},
      "source": [
        "## Expanded PCFG\nWe will now define an RBN by `expanding` the same PCFG used in the example above. When expanding a PCFG to an\nRBN, each non-terminal symbol becomes a separate non-terminal variable in the RBN. The PCFG thus acts as an outer\nskeleton when being expanded, and we are required to additionally define the domain and transitions for the variables.\nThe variables could be discrete or continuous, but for this example, we take the trivial case of single-valued\ndiscrete variable (i.e. it cannot actually change value) and all the dynamics instead happens on the structural level.\n\n"
      ]
    },
    {
      "cell_type": "code",
      "execution_count": null,
      "metadata": {
        "collapsed": false
      },
      "outputs": [],
      "source": [
        "zero_var = DiscreteNonTermVar(cardinality=1)\none_var = DiscreteNonTermVar(cardinality=1)\nprior = DiscretePrior(struc_weights=[0.5, 0.5], prior_weights=[[1.], [1.]])\n\nzero_non_term_transition = DiscreteBinaryNonTerminalTransition(weights=[[[1.]]], left_idx=1, right_idx=0)\none_non_term_transition = DiscreteBinaryNonTerminalTransition(weights=[[[1.]]], left_idx=0, right_idx=1)\n\nzero_term_transition = DiscreteTerminalTransition(weights=[[1.]], term_idx=0)\none_term_transition = DiscreteTerminalTransition(weights=[[1.]], term_idx=1)\n\nzero_cell = StaticCell(variable=zero_var,\n                       weights=[0.5, 0.5],\n                       transitions=[zero_non_term_transition, zero_term_transition])\none_cell = StaticCell(variable=one_var,\n                      weights=[0.5, 0.5],\n                      transitions=[one_non_term_transition, one_term_transition])\n\nrbn = SequentialRBN(cells=[zero_cell, one_cell], prior=prior)\n\n\nprint(rbn.inside(sequence=[[0, None],\n                           [0, None],\n                           [0, None],\n                           [0, None]]))\nprint(rbn.inside(sequence=[[None, 0],\n                           [None, 0],\n                           [None, 0],\n                           [None, 0]]))\n\n\nprint(rbn.inside(sequence=[[0, None],\n                           [0, None],\n                           [0, None],\n                           [None, 0]]))\nprint(rbn.inside_chart[0].pretty())\nprint(rbn.inside_chart[1].pretty())"
      ]
    }
  ],
  "metadata": {
    "kernelspec": {
      "display_name": "Python 3",
      "language": "python",
      "name": "python3"
    },
    "language_info": {
      "codemirror_mode": {
        "name": "ipython",
        "version": 3
      },
      "file_extension": ".py",
      "mimetype": "text/x-python",
      "name": "python",
      "nbconvert_exporter": "python",
      "pygments_lexer": "ipython3",
      "version": "3.10.12"
    }
  },
  "nbformat": 4,
  "nbformat_minor": 0
}