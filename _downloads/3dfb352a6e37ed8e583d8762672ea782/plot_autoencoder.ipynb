{
  "cells": [
    {
      "cell_type": "markdown",
      "metadata": {},
      "source": [
        "\n# Autoencoder\n\nThis is an example of defining an autoencoder RBN with a single continuous variable.\n"
      ]
    },
    {
      "cell_type": "markdown",
      "metadata": {},
      "source": [
        "We use the classes defined in :mod:`rbnet.autoencoder`\n\n"
      ]
    },
    {
      "cell_type": "code",
      "execution_count": null,
      "metadata": {
        "collapsed": false
      },
      "outputs": [],
      "source": [
        "import torch\n\nfrom rbnet.sequential import SequentialRBN\nfrom rbnet.autoencoder import AutoencoderCell, AutoencoderTransition, AutoencoderNonTermVar, AutoencoderPrior\n\ncell = AutoencoderCell(\n    transition=AutoencoderTransition(terminal_encoder=lambda x: x,\n                                     terminal_decoder=lambda z, x: torch.ones(1),\n                                     # non_terminal_encoder=lambda x1, x2: (x1 + x2) / 2,\n                                     non_terminal_encoder=lambda x1, x2: max(x1, x2),\n                                     non_terminal_decoder=lambda z, x1, x2: torch.ones(1)),\n    variable=AutoencoderNonTermVar(dim=1)\n)\nrbn = SequentialRBN(cells=[cell], prior=AutoencoderPrior())\nprint(rbn.inside(torch.linspace(0, 10, 6)[:, None]))\nfor p in rbn.inside_chart[0].pretty():\n    print(p)"
      ]
    }
  ],
  "metadata": {
    "kernelspec": {
      "display_name": "Python 3",
      "language": "python",
      "name": "python3"
    },
    "language_info": {
      "codemirror_mode": {
        "name": "ipython",
        "version": 3
      },
      "file_extension": ".py",
      "mimetype": "text/x-python",
      "name": "python",
      "nbconvert_exporter": "python",
      "pygments_lexer": "ipython3",
      "version": "3.12.3"
    }
  },
  "nbformat": 4,
  "nbformat_minor": 0
}